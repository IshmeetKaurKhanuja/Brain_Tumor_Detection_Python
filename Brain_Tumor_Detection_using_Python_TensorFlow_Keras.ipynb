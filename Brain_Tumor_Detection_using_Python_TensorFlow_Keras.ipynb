{
 "cells": [
  {
   "cell_type": "markdown",
   "id": "853482ce",
   "metadata": {},
   "source": [
    "# TRAINING"
   ]
  },
  {
   "cell_type": "code",
   "execution_count": 16,
   "id": "53c00939",
   "metadata": {},
   "outputs": [
    {
     "name": "stdout",
     "output_type": "stream",
     "text": [
      "(2400, 34, 34, 3)\n",
      "(2400,)\n",
      "(600, 34, 34, 3)\n",
      "(600,)\n"
     ]
    }
   ],
   "source": [
    "import cv2\n",
    "import os\n",
    "import tensorflow as tf\n",
    "from tensorflow import keras\n",
    "from PIL import Image\n",
    "import numpy as np\n",
    "import keras\n",
    "from keras.utils import normalize\n",
    "from keras.models import Sequential\n",
    "from keras.layers import Conv2D,MaxPooling2D,Activation,Dropout,Flatten,Dense\n",
    "from keras.utils import to_categorical\n",
    "\n",
    "#for splitting the data as train and testing data\n",
    "from sklearn.model_selection import train_test_split\n",
    "#80% training and 20% testing\n",
    "\n",
    "image_directory = 'dataset/'\n",
    "no_tumor_images=os.listdir(image_directory+ 'no/')\n",
    "yes_tumor_images=os.listdir(image_directory+ 'yes/')\n",
    "\n",
    "dataset=[]\n",
    "label=[]\n",
    "\n",
    "INPUT_SIZE=34\n",
    "\n",
    "for i, image_name in enumerate(no_tumor_images):\n",
    "    if(image_name.split('.')[1]=='jpg'):\n",
    "        image = cv2.imread(image_directory+ 'no/'+image_name)\n",
    "        image= Image.fromarray(image,'RGB')\n",
    "        image=image.resize((INPUT_SIZE,INPUT_SIZE))\n",
    "        dataset.append(np.array(image))\n",
    "        label.append(0)\n",
    "        \n",
    "for i, image_name in enumerate(yes_tumor_images):\n",
    "    if(image_name.split('.')[1]=='jpg'):\n",
    "        image = cv2.imread(image_directory+ 'yes/'+image_name)\n",
    "        image= Image.fromarray(image,'RGB')\n",
    "        image=image.resize((INPUT_SIZE,INPUT_SIZE))\n",
    "        dataset.append(np.array(image))\n",
    "        label.append(1)\n",
    "                           \n",
    "dataset=np.array(dataset)\n",
    "label=np.array(label)\n",
    "\n",
    "\n",
    "x_train,x_test,y_train,y_test=train_test_split(dataset,label,test_size=0.2,random_state=0)\n",
    "\n",
    "#Reshape=(n,image_width,image_height,n_channel)\n",
    "print(x_train.shape) \n",
    "print(y_train.shape)\n",
    "\n",
    "print(x_test.shape) \n",
    "print(y_test.shape)\n"
   ]
  },
  {
   "cell_type": "code",
   "execution_count": 8,
   "id": "0c561f96",
   "metadata": {},
   "outputs": [],
   "source": [
    "x_train=normalize(x_train,axis=1)\n",
    "x_test=normalize(x_test,axis=1)"
   ]
  },
  {
   "cell_type": "code",
   "execution_count": 17,
   "id": "18310507",
   "metadata": {},
   "outputs": [
    {
     "name": "stdout",
     "output_type": "stream",
     "text": [
      "Epoch 1/10\n",
      "150/150 [==============================] - 5s 25ms/step - loss: 3.0855 - accuracy: 0.5917 - val_loss: 0.5368 - val_accuracy: 0.7333\n",
      "Epoch 2/10\n",
      "150/150 [==============================] - 3s 23ms/step - loss: 0.6452 - accuracy: 0.6629 - val_loss: 0.5549 - val_accuracy: 0.7000\n",
      "Epoch 3/10\n",
      "150/150 [==============================] - 3s 23ms/step - loss: 0.6097 - accuracy: 0.6842 - val_loss: 0.5134 - val_accuracy: 0.7217\n",
      "Epoch 4/10\n",
      "150/150 [==============================] - 3s 22ms/step - loss: 0.5535 - accuracy: 0.7292 - val_loss: 0.4992 - val_accuracy: 0.7567\n",
      "Epoch 5/10\n",
      "150/150 [==============================] - 3s 23ms/step - loss: 0.5045 - accuracy: 0.7608 - val_loss: 0.5345 - val_accuracy: 0.7283\n",
      "Epoch 6/10\n",
      "150/150 [==============================] - 4s 23ms/step - loss: 0.4891 - accuracy: 0.7675 - val_loss: 0.3837 - val_accuracy: 0.8183\n",
      "Epoch 7/10\n",
      "150/150 [==============================] - 4s 24ms/step - loss: 0.4397 - accuracy: 0.8037 - val_loss: 0.3565 - val_accuracy: 0.8233\n",
      "Epoch 8/10\n",
      "150/150 [==============================] - 3s 22ms/step - loss: 0.3987 - accuracy: 0.8233 - val_loss: 0.3744 - val_accuracy: 0.8300\n",
      "Epoch 9/10\n",
      "150/150 [==============================] - 3s 22ms/step - loss: 0.3622 - accuracy: 0.8438 - val_loss: 0.4107 - val_accuracy: 0.7983\n",
      "Epoch 10/10\n",
      "150/150 [==============================] - 3s 21ms/step - loss: 0.3380 - accuracy: 0.8504 - val_loss: 0.2688 - val_accuracy: 0.8883\n"
     ]
    }
   ],
   "source": [
    "#ModelBuilding\n",
    "#64,64,3\n",
    "model=Sequential()\n",
    "model.add(Conv2D(32,(3,3),input_shape=(INPUT_SIZE,INPUT_SIZE,3)))\n",
    "model.add(Activation('relu'))\n",
    "model.add(MaxPooling2D(pool_size=(2,2)))\n",
    "\n",
    "model.add(Conv2D(32,(3,3),kernel_initializer='he_uniform'))\n",
    "model.add(Activation('relu'))\n",
    "model.add(MaxPooling2D(pool_size=(2,2)))\n",
    "\n",
    "model.add(Conv2D(32,(3,3),kernel_initializer='he_uniform'))\n",
    "model.add(Activation('relu'))\n",
    "model.add(MaxPooling2D(pool_size=(2,2)))\n",
    "\n",
    "#flatten-allimagesinonefactor\n",
    "model.add(Flatten())\n",
    "model.add(Dense(64))\n",
    "model.add(Activation('relu'))\n",
    "model.add(Dropout(0.5))#minimizethefitting\n",
    "model.add(Dense(1))\n",
    "model.add(Activation('sigmoid'))\n",
    "\n",
    "#Binary Cross Entropy=1,sigmoid\n",
    "\n",
    "model.compile(loss='binary_crossentropy',optimizer='adam',metrics=['accuracy'])\n",
    "\n",
    "model.fit(x_train,y_train,batch_size=16,verbose=1,epochs=10,\n",
    "         validation_data=(x_test,y_test),shuffle=False)\n",
    "\n",
    "model.save('BrainTumor10Epochs.h5')"
   ]
  },
  {
   "cell_type": "code",
   "execution_count": 19,
   "id": "5a17c3eb",
   "metadata": {},
   "outputs": [],
   "source": [
    "y_train=to_categorical(y_train,num_classes=2)\n",
    "y_test=to_categorical(y_test,num_classes=2)"
   ]
  },
  {
   "cell_type": "code",
   "execution_count": 20,
   "id": "de3a5ac8",
   "metadata": {},
   "outputs": [
    {
     "name": "stdout",
     "output_type": "stream",
     "text": [
      "Epoch 1/10\n",
      "150/150 [==============================] - 5s 26ms/step - loss: 2.5335 - accuracy: 0.6196 - val_loss: 0.5120 - val_accuracy: 0.7517\n",
      "Epoch 2/10\n",
      "150/150 [==============================] - 4s 26ms/step - loss: 0.5446 - accuracy: 0.7342 - val_loss: 0.4744 - val_accuracy: 0.7617\n",
      "Epoch 3/10\n",
      "150/150 [==============================] - 3s 22ms/step - loss: 0.4820 - accuracy: 0.7775 - val_loss: 0.4687 - val_accuracy: 0.7533\n",
      "Epoch 4/10\n",
      "150/150 [==============================] - 4s 25ms/step - loss: 0.4571 - accuracy: 0.7904 - val_loss: 0.4272 - val_accuracy: 0.7750\n",
      "Epoch 5/10\n",
      "150/150 [==============================] - 3s 23ms/step - loss: 0.4366 - accuracy: 0.8204 - val_loss: 0.3372 - val_accuracy: 0.8267\n",
      "Epoch 6/10\n",
      "150/150 [==============================] - 3s 22ms/step - loss: 0.3711 - accuracy: 0.8338 - val_loss: 0.4427 - val_accuracy: 0.7950\n",
      "Epoch 7/10\n",
      "150/150 [==============================] - 3s 22ms/step - loss: 0.3336 - accuracy: 0.8471 - val_loss: 0.3491 - val_accuracy: 0.8517\n",
      "Epoch 8/10\n",
      "150/150 [==============================] - 3s 22ms/step - loss: 0.3137 - accuracy: 0.8612 - val_loss: 0.2439 - val_accuracy: 0.8883\n",
      "Epoch 9/10\n",
      "150/150 [==============================] - 3s 22ms/step - loss: 0.3138 - accuracy: 0.8646 - val_loss: 0.2854 - val_accuracy: 0.8750\n",
      "Epoch 10/10\n",
      "150/150 [==============================] - 3s 22ms/step - loss: 0.2483 - accuracy: 0.8975 - val_loss: 0.2182 - val_accuracy: 0.9050\n"
     ]
    }
   ],
   "source": [
    "#ModelBuilding\n",
    "#64,64,3\n",
    "model=Sequential()\n",
    "model.add(Conv2D(32,(3,3),input_shape=(INPUT_SIZE,INPUT_SIZE,3)))\n",
    "model.add(Activation('relu'))\n",
    "model.add(MaxPooling2D(pool_size=(2,2)))\n",
    "\n",
    "model.add(Conv2D(32,(3,3),kernel_initializer='he_uniform'))\n",
    "model.add(Activation('relu'))\n",
    "model.add(MaxPooling2D(pool_size=(2,2)))\n",
    "\n",
    "model.add(Conv2D(32,(3,3),kernel_initializer='he_uniform'))\n",
    "model.add(Activation('relu'))\n",
    "model.add(MaxPooling2D(pool_size=(2,2)))\n",
    "\n",
    "#flatten-allimagesinonefactor\n",
    "model.add(Flatten())\n",
    "model.add(Dense(64))\n",
    "model.add(Activation('relu'))\n",
    "model.add(Dropout(0.5))#minimizethefitting\n",
    "model.add(Dense(2))\n",
    "model.add(Activation('softmax'))\n",
    "\n",
    "#Categorical Cross Entropy=2,softmax\n",
    "\n",
    "model.compile(loss='categorical_crossentropy',optimizer='adam',metrics=['accuracy'])\n",
    "\n",
    "model.fit(x_train,y_train,batch_size=16,verbose=1,epochs=10,\n",
    "         validation_data=(x_test,y_test),shuffle=False)\n",
    "\n",
    "model.save('BrainTumor10EpochsCategorical.h5')"
   ]
  },
  {
   "cell_type": "code",
   "execution_count": null,
   "id": "b2fe597b",
   "metadata": {},
   "outputs": [],
   "source": []
  },
  {
   "cell_type": "markdown",
   "id": "dda221ae",
   "metadata": {},
   "source": [
    "# TESTING"
   ]
  },
  {
   "cell_type": "code",
   "execution_count": 24,
   "id": "af66b1fd",
   "metadata": {},
   "outputs": [],
   "source": [
    "import cv2\n",
    "from keras.models import load_model\n",
    "from PIL import Image\n",
    "import numpy as np\n",
    "\n",
    "\n",
    "model=load_model('BrainTumor10Epochs.h5')"
   ]
  },
  {
   "cell_type": "code",
   "execution_count": 25,
   "id": "b5067d38",
   "metadata": {},
   "outputs": [],
   "source": [
    "image=cv2.imread('C:\\\\Users\\\\HZT\\\\Desktop\\\\Tumor detection\\\\pred\\\\pred0.jpg')"
   ]
  },
  {
   "cell_type": "code",
   "execution_count": 38,
   "id": "0869f0c1",
   "metadata": {},
   "outputs": [
    {
     "name": "stdout",
     "output_type": "stream",
     "text": [
      "[[[0 0 0]\n",
      "  [0 0 0]\n",
      "  [0 0 0]\n",
      "  ...\n",
      "  [0 0 0]\n",
      "  [0 0 0]\n",
      "  [5 5 5]]\n",
      "\n",
      " [[0 0 0]\n",
      "  [1 1 1]\n",
      "  [1 1 1]\n",
      "  ...\n",
      "  [1 1 1]\n",
      "  [0 0 0]\n",
      "  [6 6 6]]\n",
      "\n",
      " [[1 1 1]\n",
      "  [1 1 1]\n",
      "  [1 1 1]\n",
      "  ...\n",
      "  [1 1 1]\n",
      "  [0 0 0]\n",
      "  [6 6 6]]\n",
      "\n",
      " ...\n",
      "\n",
      " [[1 1 1]\n",
      "  [2 2 2]\n",
      "  [1 1 1]\n",
      "  ...\n",
      "  [0 0 0]\n",
      "  [0 0 0]\n",
      "  [1 1 1]]\n",
      "\n",
      " [[0 0 0]\n",
      "  [0 0 0]\n",
      "  [0 0 0]\n",
      "  ...\n",
      "  [0 0 0]\n",
      "  [0 0 0]\n",
      "  [1 1 1]]\n",
      "\n",
      " [[0 0 0]\n",
      "  [0 0 0]\n",
      "  [0 0 0]\n",
      "  ...\n",
      "  [0 0 0]\n",
      "  [0 0 0]\n",
      "  [1 1 1]]]\n"
     ]
    }
   ],
   "source": [
    "#converting an image to an array\n",
    "img=Image.fromarray(image)\n",
    "\n",
    "img=img.resize((34,34))\n",
    "\n",
    "img=np.array(img)\n",
    "\n",
    "print(img) #all zeros mean that the image is not affected by the tumor"
   ]
  },
  {
   "cell_type": "code",
   "execution_count": 39,
   "id": "480da4c7",
   "metadata": {},
   "outputs": [],
   "source": [
    "image=cv2.imread('C:\\\\Users\\\\HZT\\\\Desktop\\\\Tumor detection\\\\pred\\\\pred5.jpg')"
   ]
  },
  {
   "cell_type": "code",
   "execution_count": 43,
   "id": "0ea544cf",
   "metadata": {},
   "outputs": [
    {
     "name": "stdout",
     "output_type": "stream",
     "text": [
      "[[[0 0 0]\n",
      "  [0 0 0]\n",
      "  [0 0 0]\n",
      "  ...\n",
      "  [0 0 0]\n",
      "  [0 0 0]\n",
      "  [5 5 5]]\n",
      "\n",
      " [[0 0 0]\n",
      "  [1 1 1]\n",
      "  [1 1 1]\n",
      "  ...\n",
      "  [1 1 1]\n",
      "  [0 0 0]\n",
      "  [6 6 6]]\n",
      "\n",
      " [[1 1 1]\n",
      "  [1 1 1]\n",
      "  [1 1 1]\n",
      "  ...\n",
      "  [1 1 1]\n",
      "  [0 0 0]\n",
      "  [6 6 6]]\n",
      "\n",
      " ...\n",
      "\n",
      " [[1 1 1]\n",
      "  [2 2 2]\n",
      "  [1 1 1]\n",
      "  ...\n",
      "  [0 0 0]\n",
      "  [0 0 0]\n",
      "  [1 1 1]]\n",
      "\n",
      " [[0 0 0]\n",
      "  [0 0 0]\n",
      "  [0 0 0]\n",
      "  ...\n",
      "  [0 0 0]\n",
      "  [0 0 0]\n",
      "  [1 1 1]]\n",
      "\n",
      " [[0 0 0]\n",
      "  [0 0 0]\n",
      "  [0 0 0]\n",
      "  ...\n",
      "  [0 0 0]\n",
      "  [0 0 0]\n",
      "  [1 1 1]]]\n"
     ]
    }
   ],
   "source": [
    "#converting an image to an array\n",
    "img=Image.fromarray(image)\n",
    "\n",
    "img=img.resize((34,34))\n",
    "\n",
    "img=np.array(img)\n",
    "\n",
    "print(img) "
   ]
  },
  {
   "cell_type": "code",
   "execution_count": 44,
   "id": "38bd531c",
   "metadata": {},
   "outputs": [],
   "source": [
    "img=np.array(img)\n",
    "\n",
    "input_img=np.expand_dims(img,axis=0)"
   ]
  },
  {
   "cell_type": "code",
   "execution_count": 46,
   "id": "b25a9733",
   "metadata": {},
   "outputs": [
    {
     "name": "stdout",
     "output_type": "stream",
     "text": [
      "1/1 [==============================] - 0s 30ms/step\n",
      "[[0.9986723]]\n"
     ]
    }
   ],
   "source": [
    "result=model.predict(input_img)\n",
    "print(result)"
   ]
  },
  {
   "cell_type": "code",
   "execution_count": null,
   "id": "3e6266d6",
   "metadata": {},
   "outputs": [],
   "source": []
  },
  {
   "cell_type": "code",
   "execution_count": null,
   "id": "15efe460",
   "metadata": {},
   "outputs": [],
   "source": []
  },
  {
   "cell_type": "markdown",
   "id": "9e344a49",
   "metadata": {},
   "source": [
    "# WEB_APP"
   ]
  },
  {
   "cell_type": "code",
   "execution_count": 47,
   "id": "e88e7e0e",
   "metadata": {},
   "outputs": [
    {
     "name": "stdout",
     "output_type": "stream",
     "text": [
      "Model loaded. Check http://127.0.0.1:5000/\n",
      " * Serving Flask app \"__main__\" (lazy loading)\n",
      " * Environment: production\n",
      "\u001b[31m   WARNING: This is a development server. Do not use it in a production deployment.\u001b[0m\n",
      "\u001b[2m   Use a production WSGI server instead.\u001b[0m\n",
      " * Debug mode: on\n"
     ]
    },
    {
     "name": "stderr",
     "output_type": "stream",
     "text": [
      " * Restarting with watchdog (windowsapi)\n"
     ]
    },
    {
     "ename": "SystemExit",
     "evalue": "1",
     "output_type": "error",
     "traceback": [
      "An exception has occurred, use %tb to see the full traceback.\n",
      "\u001b[1;31mSystemExit\u001b[0m\u001b[1;31m:\u001b[0m 1\n"
     ]
    },
    {
     "name": "stderr",
     "output_type": "stream",
     "text": [
      "C:\\Users\\HZT\\anaconda3\\lib\\site-packages\\IPython\\core\\interactiveshell.py:3377: UserWarning: To exit: use 'exit', 'quit', or Ctrl-D.\n",
      "  warn(\"To exit: use 'exit', 'quit', or Ctrl-D.\", stacklevel=1)\n"
     ]
    }
   ],
   "source": [
    "import os\n",
    "import tensorflow as tf\n",
    "import numpy as np\n",
    "from tensorflow.keras.preprocessing import image\n",
    "from PIL import Image\n",
    "import cv2\n",
    "from keras.models import load_model\n",
    "from flask import Flask, request, render_template\n",
    "from werkzeug.utils import secure_filename\n",
    "\n",
    "\n",
    "app = Flask(__name__)\n",
    "\n",
    "\n",
    "model =load_model('BrainTumor10Epochs.h5')\n",
    "print('Model loaded. Check http://127.0.0.1:5000/')\n",
    "\n",
    "\n",
    "def get_className(classNo):\n",
    "\tif classNo==0:\n",
    "\t\treturn \"No Brain Tumor\"\n",
    "\telif classNo==1:\n",
    "\t\treturn \"Yes Brain Tumor\"\n",
    "\n",
    "\n",
    "def getResult(img):\n",
    "    image=cv2.imread(img)\n",
    "    image = Image.fromarray(image, 'RGB')\n",
    "    image = image.resize((64, 64))\n",
    "    image=np.array(image)\n",
    "    input_img = np.expand_dims(image, axis=0)\n",
    "    result=model.predict_classes(input_img)\n",
    "    return result\n",
    "\n",
    "\n",
    "@app.route('/', methods=['GET'])\n",
    "def index():\n",
    "    return render_template('index.html')\n",
    "\n",
    "\n",
    "@app.route('/predict', methods=['GET', 'POST'])\n",
    "def upload():\n",
    "    if request.method == 'POST':\n",
    "        f = request.files['file']\n",
    "\n",
    "        basepath = os.path.dirname(__file__)\n",
    "        file_path = os.path.join(\n",
    "            basepath, 'uploads', secure_filename(f.filename))\n",
    "        f.save(file_path)\n",
    "        value=getResult(file_path)\n",
    "        result=get_className(value) \n",
    "        return result\n",
    "    return None\n",
    "\n",
    "\n",
    "if __name__ == '__main__':\n",
    "    app.run(debug=True)"
   ]
  },
  {
   "cell_type": "code",
   "execution_count": 48,
   "id": "e9253f66",
   "metadata": {},
   "outputs": [
    {
     "ename": "SystemExit",
     "evalue": "1",
     "output_type": "error",
     "traceback": [
      "\u001b[1;31m---------------------------------------------------------------------------\u001b[0m",
      "\u001b[1;31mSystemExit\u001b[0m                                Traceback (most recent call last)",
      "Input \u001b[1;32mIn [47]\u001b[0m, in \u001b[0;36m<cell line: 56>\u001b[1;34m()\u001b[0m\n\u001b[0;32m     53\u001b[0m     \u001b[38;5;28;01mreturn\u001b[39;00m \u001b[38;5;28;01mNone\u001b[39;00m\n\u001b[0;32m     56\u001b[0m \u001b[38;5;28;01mif\u001b[39;00m \u001b[38;5;18m__name__\u001b[39m \u001b[38;5;241m==\u001b[39m \u001b[38;5;124m'\u001b[39m\u001b[38;5;124m__main__\u001b[39m\u001b[38;5;124m'\u001b[39m:\n\u001b[1;32m---> 57\u001b[0m     \u001b[43mapp\u001b[49m\u001b[38;5;241;43m.\u001b[39;49m\u001b[43mrun\u001b[49m\u001b[43m(\u001b[49m\u001b[43mdebug\u001b[49m\u001b[38;5;241;43m=\u001b[39;49m\u001b[38;5;28;43;01mTrue\u001b[39;49;00m\u001b[43m)\u001b[49m\n",
      "File \u001b[1;32m~\\anaconda3\\lib\\site-packages\\flask\\app.py:990\u001b[0m, in \u001b[0;36mFlask.run\u001b[1;34m(self, host, port, debug, load_dotenv, **options)\u001b[0m\n\u001b[0;32m    987\u001b[0m \u001b[38;5;28;01mfrom\u001b[39;00m \u001b[38;5;21;01mwerkzeug\u001b[39;00m\u001b[38;5;21;01m.\u001b[39;00m\u001b[38;5;21;01mserving\u001b[39;00m \u001b[38;5;28;01mimport\u001b[39;00m run_simple\n\u001b[0;32m    989\u001b[0m \u001b[38;5;28;01mtry\u001b[39;00m:\n\u001b[1;32m--> 990\u001b[0m     run_simple(host, port, \u001b[38;5;28mself\u001b[39m, \u001b[38;5;241m*\u001b[39m\u001b[38;5;241m*\u001b[39moptions)\n\u001b[0;32m    991\u001b[0m \u001b[38;5;28;01mfinally\u001b[39;00m:\n\u001b[0;32m    992\u001b[0m     \u001b[38;5;66;03m# reset the first request information if the development server\u001b[39;00m\n\u001b[0;32m    993\u001b[0m     \u001b[38;5;66;03m# reset normally.  This makes it possible to restart the server\u001b[39;00m\n\u001b[0;32m    994\u001b[0m     \u001b[38;5;66;03m# without reloader and that stuff from an interactive shell.\u001b[39;00m\n\u001b[0;32m    995\u001b[0m     \u001b[38;5;28mself\u001b[39m\u001b[38;5;241m.\u001b[39m_got_first_request \u001b[38;5;241m=\u001b[39m \u001b[38;5;28;01mFalse\u001b[39;00m\n",
      "File \u001b[1;32m~\\anaconda3\\lib\\site-packages\\werkzeug\\serving.py:1009\u001b[0m, in \u001b[0;36mrun_simple\u001b[1;34m(hostname, port, application, use_reloader, use_debugger, use_evalex, extra_files, exclude_patterns, reloader_interval, reloader_type, threaded, processes, request_handler, static_files, passthrough_errors, ssl_context)\u001b[0m\n\u001b[0;32m   1005\u001b[0m                 os\u001b[38;5;241m.\u001b[39munlink(server_address)\n\u001b[0;32m   1007\u001b[0m     \u001b[38;5;28;01mfrom\u001b[39;00m \u001b[38;5;21;01m.\u001b[39;00m\u001b[38;5;21;01m_reloader\u001b[39;00m \u001b[38;5;28;01mimport\u001b[39;00m run_with_reloader \u001b[38;5;28;01mas\u001b[39;00m _rwr\n\u001b[1;32m-> 1009\u001b[0m     \u001b[43m_rwr\u001b[49m\u001b[43m(\u001b[49m\n\u001b[0;32m   1010\u001b[0m \u001b[43m        \u001b[49m\u001b[43minner\u001b[49m\u001b[43m,\u001b[49m\n\u001b[0;32m   1011\u001b[0m \u001b[43m        \u001b[49m\u001b[43mextra_files\u001b[49m\u001b[38;5;241;43m=\u001b[39;49m\u001b[43mextra_files\u001b[49m\u001b[43m,\u001b[49m\n\u001b[0;32m   1012\u001b[0m \u001b[43m        \u001b[49m\u001b[43mexclude_patterns\u001b[49m\u001b[38;5;241;43m=\u001b[39;49m\u001b[43mexclude_patterns\u001b[49m\u001b[43m,\u001b[49m\n\u001b[0;32m   1013\u001b[0m \u001b[43m        \u001b[49m\u001b[43minterval\u001b[49m\u001b[38;5;241;43m=\u001b[39;49m\u001b[43mreloader_interval\u001b[49m\u001b[43m,\u001b[49m\n\u001b[0;32m   1014\u001b[0m \u001b[43m        \u001b[49m\u001b[43mreloader_type\u001b[49m\u001b[38;5;241;43m=\u001b[39;49m\u001b[43mreloader_type\u001b[49m\u001b[43m,\u001b[49m\n\u001b[0;32m   1015\u001b[0m \u001b[43m    \u001b[49m\u001b[43m)\u001b[49m\n\u001b[0;32m   1016\u001b[0m \u001b[38;5;28;01melse\u001b[39;00m:\n\u001b[0;32m   1017\u001b[0m     inner()\n",
      "File \u001b[1;32m~\\anaconda3\\lib\\site-packages\\werkzeug\\_reloader.py:428\u001b[0m, in \u001b[0;36mrun_with_reloader\u001b[1;34m(main_func, extra_files, exclude_patterns, interval, reloader_type)\u001b[0m\n\u001b[0;32m    426\u001b[0m             reloader\u001b[38;5;241m.\u001b[39mrun()\n\u001b[0;32m    427\u001b[0m     \u001b[38;5;28;01melse\u001b[39;00m:\n\u001b[1;32m--> 428\u001b[0m         \u001b[43msys\u001b[49m\u001b[38;5;241;43m.\u001b[39;49m\u001b[43mexit\u001b[49m\u001b[43m(\u001b[49m\u001b[43mreloader\u001b[49m\u001b[38;5;241;43m.\u001b[39;49m\u001b[43mrestart_with_reloader\u001b[49m\u001b[43m(\u001b[49m\u001b[43m)\u001b[49m\u001b[43m)\u001b[49m\n\u001b[0;32m    429\u001b[0m \u001b[38;5;28;01mexcept\u001b[39;00m \u001b[38;5;167;01mKeyboardInterrupt\u001b[39;00m:\n\u001b[0;32m    430\u001b[0m     \u001b[38;5;28;01mpass\u001b[39;00m\n",
      "\u001b[1;31mSystemExit\u001b[0m: 1"
     ]
    }
   ],
   "source": [
    "%tb"
   ]
  },
  {
   "cell_type": "code",
   "execution_count": null,
   "id": "fe4c804c",
   "metadata": {},
   "outputs": [],
   "source": []
  }
 ],
 "metadata": {
  "kernelspec": {
   "display_name": "Python 3 (ipykernel)",
   "language": "python",
   "name": "python3"
  },
  "language_info": {
   "codemirror_mode": {
    "name": "ipython",
    "version": 3
   },
   "file_extension": ".py",
   "mimetype": "text/x-python",
   "name": "python",
   "nbconvert_exporter": "python",
   "pygments_lexer": "ipython3",
   "version": "3.9.12"
  }
 },
 "nbformat": 4,
 "nbformat_minor": 5
}
